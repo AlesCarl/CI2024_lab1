{
 "cells": [
  {
   "cell_type": "markdown",
   "metadata": {},
   "source": [
    "Copyright **`(c)`** 2024 Giovanni Squillero `<giovanni.squillero@polito.it>`  \n",
    "[`https://github.com/squillero/computational-intelligence`](https://github.com/squillero/computational-intelligence)  \n",
    "Free for personal or classroom use; see [`LICENSE.md`](https://github.com/squillero/computational-intelligence/blob/master/LICENSE.md) for details.  "
   ]
  },
  {
   "cell_type": "markdown",
   "metadata": {},
   "source": [
    "# Set Cover problem\n",
    "\n",
    "See: https://en.wikipedia.org/wiki/Set_cover_problem"
   ]
  },
  {
   "cell_type": "code",
   "execution_count": 11,
   "metadata": {},
   "outputs": [],
   "source": [
    "   \n",
    "from itertools import accumulate\n",
    "import numpy as np\n",
    "import matplotlib.pyplot as plt\n",
    "from icecream import ic\n",
    "from tqdm.auto import tqdm\n"
   ]
  },
  {
   "cell_type": "markdown",
   "metadata": {},
   "source": [
    "## Reproducible Initialization\n",
    "\n",
    "If you want to get reproducible results, use `rng` (and restart the kernel); for non-reproducible ones, use `np.random`."
   ]
  },
  {
   "cell_type": "code",
   "execution_count": 12,
   "metadata": {},
   "outputs": [],
   "source": [
    "UNIVERSE_SIZE = 10_000\n",
    "NUM_SETS = 1_000\n",
    "DENSITY = 0.2\n",
    "\n",
    "rng = np.random.Generator(np.random.PCG64([UNIVERSE_SIZE, NUM_SETS, int(10_000 * DENSITY)]))"
   ]
  },
  {
   "cell_type": "code",
   "execution_count": 13,
   "metadata": {},
   "outputs": [],
   "source": [
    "# DON'T EDIT THESE LINES!\n",
    "\n",
    "SETS = np.random.random((NUM_SETS, UNIVERSE_SIZE)) < DENSITY\n",
    "for s in range(UNIVERSE_SIZE):\n",
    "    if not np.any(SETS[:, s]):\n",
    "        SETS[np.random.randint(NUM_SETS), s] = True\n",
    "COSTS = np.pow(SETS.sum(axis=1), 1.1)"
   ]
  },
  {
   "cell_type": "markdown",
   "metadata": {},
   "source": [
    "## Helper Functions"
   ]
  },
  {
   "cell_type": "code",
   "execution_count": 14,
   "metadata": {},
   "outputs": [],
   "source": [
    "def valid(solution):\n",
    "    \"\"\"Checks wether solution is valid (ie. covers all universe)\"\"\"\n",
    "    return np.all(np.logical_or.reduce(SETS[solution]))\n",
    "\n",
    "\n",
    "def cost(solution):\n",
    "    \"\"\"Returns the cost of a solution (to be minimized)\"\"\"\n",
    "    return COSTS[solution].sum()"
   ]
  },
  {
   "cell_type": "markdown",
   "metadata": {},
   "source": [
    "## Have Fun!"
   ]
  },
  {
   "cell_type": "code",
   "execution_count": null,
   "metadata": {},
   "outputs": [],
   "source": [
    "# A dumb solution of \"all\" sets\n",
    "solution = np.full(NUM_SETS, True)\n",
    "valid(solution), cost(solution) "
   ]
  },
  {
   "cell_type": "code",
   "execution_count": null,
   "metadata": {},
   "outputs": [],
   "source": [
    "# A random solution with random 50% of the sets\n",
    "solution = rng.random(NUM_SETS) < .5\n",
    "valid(solution), cost(solution)"
   ]
  },
  {
   "cell_type": "markdown",
   "metadata": {},
   "source": [
    "# SIMPLE RHMC: "
   ]
  },
  {
   "cell_type": "code",
   "execution_count": 17,
   "metadata": {},
   "outputs": [],
   "source": [
    "def single_mutation (solution: np.array ) -> np.array:\n",
    "    new_solution = solution.copy()\n",
    "    i = rng.integers(0,NUM_SETS)\n",
    "    new_solution[i] = not new_solution[i]\n",
    "    return new_solution\n",
    "\n",
    "\n",
    "def multiple_mutation (solution: np.ndarray ) -> np.ndarray:\n",
    "    mask = rng.random(NUM_SETS) < 0.01\n",
    "    new_solution = np.logical_xor(solution, mask) #genera molti falsi\n",
    "    return new_solution \n"
   ]
  },
  {
   "cell_type": "code",
   "execution_count": null,
   "metadata": {},
   "outputs": [],
   "source": [
    "a= np.array([True, True, False, False ])\n",
    "b= np.array([True, False, True, False ])\n",
    "np.logical_xor(a,b) "
   ]
  },
  {
   "cell_type": "code",
   "execution_count": 19,
   "metadata": {},
   "outputs": [],
   "source": [
    "def fitness(solution: np.array) : # quanto sei vicino alla solz ottimale \n",
    "    return ( valid(solution) , -cost(solution)) #min"
   ]
  },
  {
   "cell_type": "code",
   "execution_count": null,
   "metadata": {},
   "outputs": [],
   "source": [
    "MAX_STEPS=10_000\n",
    "solution = rng.random(NUM_SETS) < 1 # soluzione iniziale random \n",
    "\n",
    "\n",
    "solution_fitness = fitness(solution)\n",
    "history = [float( solution_fitness[1] )] #only the cost\n",
    "\n",
    "ic(fitness(solution))\n",
    "\n",
    "tweak = multiple_mutation # \n",
    "\n",
    "\n",
    "#for steps in range(10_000): \n",
    "for steps in tqdm(range(MAX_STEPS)):\n",
    "\n",
    "    new_solution = tweak(solution)\n",
    "    f = fitness(new_solution)\n",
    "\n",
    "    history.append(float(f[1]))\n",
    "    \n",
    "    if f > solution_fitness:\n",
    "        solution = new_solution\n",
    "        solution_fitness = fitness(solution)\n",
    "\n",
    "        #ic(fitness(solution))\n",
    "\n",
    "#ic(solution)\n",
    "ic(fitness(solution))\n",
    "ic(history.index(float(solution_fitness[1])))  # Cerca solo il costo nella lista `history`\n",
    "\n",
    "\n",
    "\n",
    "\n",
    "plt.figure(figsize=(14, 8))\n",
    "plt.plot(\n",
    "    range(len(history)),\n",
    "    list(accumulate(history, max)),\n",
    "    color=\"red\",\n",
    ")\n",
    "_ = plt.scatter(range(len(history)), history, marker=\".\")\n"
   ]
  },
  {
   "cell_type": "markdown",
   "metadata": {},
   "source": [
    "# STEEPEST STEP: "
   ]
  },
  {
   "cell_type": "code",
   "execution_count": null,
   "metadata": {},
   "outputs": [],
   "source": [
    "\n",
    "STEEPEST_STEP_CANDIDATES = 3\n",
    "MAX_STEPS= 4_000\n",
    "\n",
    "\n",
    "\n",
    "\n",
    "solution = rng.random(NUM_SETS) < 1 # soluzione iniziale random\n",
    "\n",
    "solution_fitness = fitness(solution) \n",
    "history = [float( solution_fitness[1] )]\n",
    "\n",
    "ic(fitness(solution))\n",
    "\n",
    "\n",
    "tweak = single_mutation  \n",
    "\n",
    "\n",
    "#for steps in range(2_000):  \n",
    "for steps in tqdm(range(MAX_STEPS)):\n",
    "\n",
    "    candidates = [single_mutation(solution) for _ in range(STEEPEST_STEP_CANDIDATES)]\n",
    "      # Trova il miglior candidato in base al fitness\n",
    "    candidates_fitness = list()\n",
    "    for c in candidates:\n",
    "            f = fitness(c)\n",
    "            history.append(float (f[1]))  #\n",
    "            candidates_fitness.append(f)\n",
    "\n",
    "    idx = candidates_fitness.index(max(candidates_fitness)) # trova indice candidato migliore\n",
    "\n",
    "    # keep candidate solution that yielded the steepest ascent\n",
    "    new_solution = candidates[idx] #  candidato migliore \n",
    "    \n",
    "    #f = fitness(new_solution)\n",
    "    f = candidates_fitness[idx]\n",
    "\n",
    "\n",
    "    \n",
    "    if f > solution_fitness:\n",
    "        solution = new_solution\n",
    "        solution_fitness = fitness(solution)\n",
    "\n",
    "\n",
    "\n",
    "#ic(solution)\n",
    "ic(fitness(solution))\n",
    "ic(history.index(float(solution_fitness[1]))) # num steps per trovare la soluzione migliore\n",
    "\n",
    "\n",
    "\n",
    "plt.figure(figsize=(14, 8))\n",
    "plt.plot(\n",
    "    range(len(history)),\n",
    "    list(accumulate(history, max)),\n",
    "    color=\"red\",\n",
    ")\n",
    "_ = plt.scatter(range(len(history)), history, marker=\".\")\n"
   ]
  }
 ],
 "metadata": {
  "kernelspec": {
   "display_name": "CI2024",
   "language": "python",
   "name": "python3"
  },
  "language_info": {
   "codemirror_mode": {
    "name": "ipython",
    "version": 3
   },
   "file_extension": ".py",
   "mimetype": "text/x-python",
   "name": "python",
   "nbconvert_exporter": "python",
   "pygments_lexer": "ipython3",
   "version": "3.12.6"
  }
 },
 "nbformat": 4,
 "nbformat_minor": 4
}
